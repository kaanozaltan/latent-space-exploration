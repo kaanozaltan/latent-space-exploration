{
  "cells": [
    {
      "cell_type": "markdown",
      "metadata": {
        "id": "-mjtAIs6u3-Q"
      },
      "source": [
        "# Latent Space Exploration Inference Notebook"
      ]
    },
    {
      "cell_type": "code",
      "execution_count": null,
      "metadata": {
        "id": "gfMnej8PzuKw"
      },
      "outputs": [],
      "source": [
        "import os\n",
        "from google.colab import files"
      ]
    },
    {
      "cell_type": "code",
      "execution_count": null,
      "metadata": {
        "colab": {
          "base_uri": "https://localhost:8080/"
        },
        "id": "0idsdJIaA30N",
        "outputId": "cca46a88-2653-4412-ebc9-124b8966f148"
      },
      "outputs": [],
      "source": [
        "os.chdir('/content')\n",
        "CODE_DIR = 'latent-space-exploration'\n",
        "!git clone https://github.com/kaanozaltan/latent-space-exploration.git $CODE_DIR"
      ]
    },
    {
      "cell_type": "code",
      "execution_count": null,
      "metadata": {
        "colab": {
          "base_uri": "https://localhost:8080/"
        },
        "id": "cjXHv1wSZmHg",
        "outputId": "04d2e6ca-d8cf-4e3d-c518-1e933e92f121"
      },
      "outputs": [],
      "source": [
        "os.chdir(f'{CODE_DIR}/src')\n",
        "!ls"
      ]
    },
    {
      "cell_type": "code",
      "execution_count": null,
      "metadata": {
        "colab": {
          "base_uri": "https://localhost:8080/"
        },
        "id": "xrGvhfOTBcsY",
        "outputId": "f561761f-ffe2-4afa-8b04-c3b6c7270b25"
      },
      "outputs": [],
      "source": [
        "# run inference for superresolution\n",
        "!python3 superresolution/run.py"
      ]
    },
    {
      "cell_type": "code",
      "execution_count": null,
      "metadata": {},
      "outputs": [],
      "source": [
        "# resize to 256\n",
        "from superresolution.preprocess import resize_all\n",
        "resize_all('outputs', 'outputs', 256, 256)"
      ]
    },
    {
      "cell_type": "code",
      "execution_count": null,
      "metadata": {},
      "outputs": [],
      "source": [
        "# save and download outputs\n",
        "# do not run if save_intermediate is true\n",
        "!zip -r ../outputs.zip ../outputs\n",
        "files.download('../outputs.zip')"
      ]
    }
  ],
  "metadata": {
    "colab": {
      "provenance": []
    },
    "gpuClass": "standard",
    "kernelspec": {
      "display_name": "Python 3",
      "name": "python3"
    },
    "language_info": {
      "name": "python"
    }
  },
  "nbformat": 4,
  "nbformat_minor": 0
}
