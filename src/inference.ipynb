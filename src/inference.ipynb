{
  "cells": [
    {
      "cell_type": "markdown",
      "metadata": {
        "id": "-mjtAIs6u3-Q"
      },
      "source": [
        "# Latent Space Exploration Inference Notebook"
      ]
    },
    {
      "cell_type": "code",
      "execution_count": 1,
      "metadata": {
        "id": "gfMnej8PzuKw"
      },
      "outputs": [],
      "source": [
        "import os"
      ]
    },
    {
      "cell_type": "code",
      "execution_count": 2,
      "metadata": {
        "colab": {
          "base_uri": "https://localhost:8080/"
        },
        "id": "0idsdJIaA30N",
        "outputId": "cca46a88-2653-4412-ebc9-124b8966f148"
      },
      "outputs": [
        {
          "name": "stdout",
          "output_type": "stream",
          "text": [
            "Cloning into 'latent-space-exploration'...\n",
            "remote: Enumerating objects: 33, done.\u001b[K\n",
            "remote: Total 33 (delta 0), reused 0 (delta 0), pack-reused 33\u001b[K\n",
            "Unpacking objects: 100% (33/33), 93.33 MiB | 10.61 MiB/s, done.\n",
            "Updating files: 100% (19/19), done.\n"
          ]
        }
      ],
      "source": [
        "os.chdir('/content')\n",
        "CODE_DIR = 'latent-space-exploration'\n",
        "!git clone https://github.com/kaanozaltan/latent-space-exploration.git $CODE_DIR"
      ]
    },
    {
      "cell_type": "code",
      "execution_count": 17,
      "metadata": {
        "colab": {
          "base_uri": "https://localhost:8080/"
        },
        "id": "cjXHv1wSZmHg",
        "outputId": "04d2e6ca-d8cf-4e3d-c518-1e933e92f121"
      },
      "outputs": [
        {
          "name": "stdout",
          "output_type": "stream",
          "text": [
            "bicubic.py  loss.py    preprocess.py\t      stylegan.py\n",
            "dataset.py  models.py  SphericalOptimizer.py  test.py\n"
          ]
        }
      ],
      "source": [
        "os.chdir(f'{CODE_DIR}/src')\n",
        "!ls"
      ]
    },
    {
      "cell_type": "code",
      "execution_count": 13,
      "metadata": {
        "colab": {
          "base_uri": "https://localhost:8080/"
        },
        "id": "xrGvhfOTBcsY",
        "outputId": "f561761f-ffe2-4afa-8b04-c3b6c7270b25"
      },
      "outputs": [
        {
          "name": "stdout",
          "output_type": "stream",
          "text": [
            "cat: test.py: No such file or directory\n"
          ]
        }
      ],
      "source": [
        "# run inference for superresolution\n",
        "!python3 superresolution/run.py"
      ]
    }
  ],
  "metadata": {
    "colab": {
      "provenance": []
    },
    "gpuClass": "standard",
    "kernelspec": {
      "display_name": "Python 3",
      "name": "python3"
    },
    "language_info": {
      "name": "python"
    }
  },
  "nbformat": 4,
  "nbformat_minor": 0
}
